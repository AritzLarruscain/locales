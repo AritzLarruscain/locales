{
 "cells": [
  {
   "cell_type": "markdown",
   "id": "780b1944-958f-4e41-b593-c5de307f9540",
   "metadata": {},
   "source": [
    "<img src=\"https://www.unir.net/wp-content/uploads/2019/11/Unir_2021_logo.svg\" width=\"240\" height=\"240\" align=\"right\"/>"
   ]
  },
  {
   "cell_type": "markdown",
   "id": "a72954eb-14bb-4e2f-835a-d6ce345cc5a8",
   "metadata": {},
   "source": [
    "<center><h1>Gobierno de Dato y Toma de decisiones</header1></center>\n",
    "<center><h1>Laboratorio: Almacenes de datos, Catálogo y ETL</header1></center>"
   ]
  },
  {
   "cell_type": "markdown",
   "id": "e6de7236-a3cc-45fc-b3fa-b004577776c1",
   "metadata": {},
   "source": [
    "Presentado por: Aritz Larruscain Juaristi  <br>\n",
    "Fecha: 18/10/2024"
   ]
  },
  {
   "cell_type": "markdown",
   "id": "2f4d38f8-49a4-452e-8a2e-47c275d9cb2b",
   "metadata": {},
   "source": [
    "# Importación de librerias necesarias"
   ]
  },
  {
   "cell_type": "code",
   "execution_count": null,
   "id": "fbcbbb37-b9e3-488f-be84-baa24ffc3bbf",
   "metadata": {},
   "outputs": [],
   "source": []
  },
  {
   "cell_type": "code",
   "execution_count": null,
   "id": "782ce614-aca2-44e2-8255-4e765397a3e7",
   "metadata": {},
   "outputs": [],
   "source": []
  },
  {
   "cell_type": "markdown",
   "id": "590991e8-ebfe-421d-b0fe-f5712e236c9a",
   "metadata": {},
   "source": [
    "## Cargar el Dataset"
   ]
  },
  {
   "cell_type": "code",
   "execution_count": null,
   "id": "6f58bc6f-563b-480c-9586-7d667f81fa35",
   "metadata": {},
   "outputs": [],
   "source": []
  },
  {
   "cell_type": "code",
   "execution_count": null,
   "id": "4a2d801c-d9e7-4919-abb3-d44236571a81",
   "metadata": {},
   "outputs": [],
   "source": []
  },
  {
   "cell_type": "markdown",
   "id": "c149dc90-0cf6-4ae8-b822-991c97d19f6d",
   "metadata": {},
   "source": [
    "## EDA (Exploratory Data Analysis)"
   ]
  },
  {
   "cell_type": "code",
   "execution_count": null,
   "id": "bae71f89-1511-4da1-bfe0-12e620eadbbf",
   "metadata": {},
   "outputs": [],
   "source": []
  },
  {
   "cell_type": "code",
   "execution_count": null,
   "id": "ed8ac1cf-7443-4ad0-9de5-40b08763be99",
   "metadata": {},
   "outputs": [],
   "source": []
  }
 ],
 "metadata": {
  "kernelspec": {
   "display_name": "Python 3 (ipykernel)",
   "language": "python",
   "name": "python3"
  },
  "language_info": {
   "codemirror_mode": {
    "name": "ipython",
    "version": 3
   },
   "file_extension": ".py",
   "mimetype": "text/x-python",
   "name": "python",
   "nbconvert_exporter": "python",
   "pygments_lexer": "ipython3",
   "version": "3.11.7"
  }
 },
 "nbformat": 4,
 "nbformat_minor": 5
}
